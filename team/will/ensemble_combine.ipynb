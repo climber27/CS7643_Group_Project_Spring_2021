{
  "nbformat": 4,
  "nbformat_minor": 0,
  "metadata": {
    "colab": {
      "name": "ensemble_combine.ipynb",
      "provenance": [],
      "collapsed_sections": []
    },
    "kernelspec": {
      "name": "python3",
      "display_name": "Python 3"
    },
    "language_info": {
      "name": "python"
    }
  },
  "cells": [
    {
      "cell_type": "code",
      "metadata": {
        "id": "EGWyJr_G2Gi5"
      },
      "source": [
        "import pandas as pd\n",
        "import scipy\n",
        "from scipy import optimize\n",
        "import numpy as np\n",
        "import sklearn.metrics as metrics"
      ],
      "execution_count": 1,
      "outputs": []
    },
    {
      "cell_type": "code",
      "metadata": {
        "colab": {
          "base_uri": "https://localhost:8080/"
        },
        "id": "YTGgCeel0Vjt",
        "outputId": "f8722c66-89d5-45c5-b48d-9fca3709aa9e"
      },
      "source": [
        "from google.colab import drive\n",
        "drive.mount('/content/gdrive')"
      ],
      "execution_count": 2,
      "outputs": [
        {
          "output_type": "stream",
          "text": [
            "Drive already mounted at /content/gdrive; to attempt to forcibly remount, call drive.mount(\"/content/gdrive\", force_remount=True).\n"
          ],
          "name": "stdout"
        }
      ]
    },
    {
      "cell_type": "code",
      "metadata": {
        "colab": {
          "base_uri": "https://localhost:8080/"
        },
        "id": "WCDXqBWlyljE",
        "outputId": "78f40b68-35cc-42a7-8376-3e703d93c004"
      },
      "source": [
        "%cd gdrive/MyDrive/colab/vilio/ernie-vil/data/hm/"
      ],
      "execution_count": 3,
      "outputs": [
        {
          "output_type": "stream",
          "text": [
            "/content/gdrive/MyDrive/colab/vilio/ernie-vil/data/hm\n"
          ],
          "name": "stdout"
        }
      ]
    },
    {
      "cell_type": "code",
      "metadata": {
        "id": "tBoYbCrJ0jHK"
      },
      "source": [
        "val_el36 = pd.read_csv('dev_seenEL36.csv').set_index('id')"
      ],
      "execution_count": 108,
      "outputs": []
    },
    {
      "cell_type": "code",
      "metadata": {
        "id": "bG99HCWx0q-Q"
      },
      "source": [
        "val_el50 = pd.read_csv('dev_seenELV50.csv').set_index('id')"
      ],
      "execution_count": 5,
      "outputs": []
    },
    {
      "cell_type": "code",
      "metadata": {
        "id": "dLCRwc2g09S-"
      },
      "source": [
        "val_el72 = pd.read_csv('dev_seenEL72.csv').set_index('id')"
      ],
      "execution_count": 6,
      "outputs": []
    },
    {
      "cell_type": "code",
      "metadata": {
        "id": "2zFpPEdl_j5z"
      },
      "source": [
        "val_el36_vcr = pd.read_csv('dev_seenELVCR36.csv').set_index('id')"
      ],
      "execution_count": 7,
      "outputs": []
    },
    {
      "cell_type": "code",
      "metadata": {
        "id": "yaY6Wnl3_jvk"
      },
      "source": [
        "val_el72_vcr = pd.read_csv('dev_seenELVCR72.csv').set_index('id')"
      ],
      "execution_count": 8,
      "outputs": []
    },
    {
      "cell_type": "code",
      "metadata": {
        "id": "WqUXDqML8EoP"
      },
      "source": [
        "true_labels = pd.read_json('dev_seenlong.jsonl',lines=True).set_index('id')"
      ],
      "execution_count": 9,
      "outputs": []
    },
    {
      "cell_type": "code",
      "metadata": {
        "id": "w2-LV5P36HFZ"
      },
      "source": [
        "joined_scores = val_el36.rename(columns={'proba':'el36_proba'})[['el36_proba']] \\\n",
        "    .join(val_el50.rename(columns={'proba': 'el50_proba'})[['el50_proba']], how='inner') \\\n",
        "    .join(val_el72.rename(columns={'proba': 'el72_proba'})[['el72_proba']], how='inner') \\\n",
        "    .join(val_el36_vcr.rename(columns={'proba': 'el36_vcr_proba'})[['el36_vcr_proba']], how='inner') \\\n",
        "    .join(val_el72_vcr.rename(columns={'proba': 'el72_vcr_proba'})[['el72_vcr_proba']], how='inner') \\\n",
        "    .join(true_labels.rename(columns={'label': 'true_label'})[['true_label']], how='inner') \\\n",
        "    .drop_duplicates()"
      ],
      "execution_count": 10,
      "outputs": []
    },
    {
      "cell_type": "code",
      "metadata": {
        "id": "HYD2oiAI6Oin"
      },
      "source": [
        "def optimize_weights(w, joined_scores):\n",
        "  \"\"\"Function to minimize the negative AUROC score on the validation set for the ensemble\"\"\"\n",
        "  w1,w2,w3,w4,w5=w\n",
        "  combined_scores = (w1*joined_scores['el36_proba'] + w2*joined_scores['el50_proba'] + \n",
        "                     w3*joined_scores['el72_proba'] + w4*joined_scores['el36_vcr_proba'] + w5*joined_scores['el72_vcr_proba'])\n",
        "  return -metrics.roc_auc_score(joined_scores['true_label'], combined_scores)\n",
        "  "
      ],
      "execution_count": 95,
      "outputs": []
    },
    {
      "cell_type": "code",
      "metadata": {
        "colab": {
          "base_uri": "https://localhost:8080/"
        },
        "id": "DjvSfEUxKzva",
        "outputId": "be990d38-7742-4417-a09f-29c36640b93d"
      },
      "source": [
        "# This is the baseline \n",
        "optimize_weights(np.ones(5) / 5, joined_scores)"
      ],
      "execution_count": 96,
      "outputs": [
        {
          "output_type": "execute_result",
          "data": {
            "text/plain": [
              "-0.804211806500136"
            ]
          },
          "metadata": {
            "tags": []
          },
          "execution_count": 96
        }
      ]
    },
    {
      "cell_type": "code",
      "metadata": {
        "id": "X3ZlNtRLCXoi"
      },
      "source": [
        "def sum_to_one(w):\n",
        "  return 1 - w.sum()\n",
        "\n",
        "cons = [{'type':'eq', 'fun': sum_to_one}]"
      ],
      "execution_count": 97,
      "outputs": []
    },
    {
      "cell_type": "code",
      "metadata": {
        "id": "SlkKsnO-ICVQ"
      },
      "source": [
        "bounds = np.zeros((5,2))\n",
        "bounds[:,1] = 1"
      ],
      "execution_count": 98,
      "outputs": []
    },
    {
      "cell_type": "code",
      "metadata": {
        "id": "oLwXJnkOAHwR"
      },
      "source": [
        "optimized_weights = optimize.dual_annealing(optimize_weights, bounds=bounds, args=(joined_scores,), maxiter=5000, initial_temp=10460)"
      ],
      "execution_count": 99,
      "outputs": []
    },
    {
      "cell_type": "code",
      "metadata": {
        "colab": {
          "base_uri": "https://localhost:8080/"
        },
        "id": "oZoi1npaH3i4",
        "outputId": "081777a8-5ed6-460e-d487-96473f7dc8f2"
      },
      "source": [
        "# Performance only increases 0.005 on validation with tuned ensemble weights...\n",
        "optimized_weights"
      ],
      "execution_count": 100,
      "outputs": [
        {
          "output_type": "execute_result",
          "data": {
            "text/plain": [
              "     fun: -0.8094445600166423\n",
              " message: ['Maximum number of iteration reached']\n",
              "    nfev: 53707\n",
              "    nhev: 0\n",
              "     nit: 5000\n",
              "    njev: 0\n",
              "  status: 0\n",
              " success: True\n",
              "       x: array([0.12966678, 0.1167347 , 0.72238828, 0.42744235, 0.81104285])"
            ]
          },
          "metadata": {
            "tags": []
          },
          "execution_count": 100
        }
      ]
    },
    {
      "cell_type": "code",
      "metadata": {
        "id": "RYOKshGcIA9g"
      },
      "source": [
        "normed_weights = optimized_weights.x / sum(optimized_weights.x)"
      ],
      "execution_count": 103,
      "outputs": []
    },
    {
      "cell_type": "code",
      "metadata": {
        "colab": {
          "base_uri": "https://localhost:8080/"
        },
        "id": "mYn83NXdMIhh",
        "outputId": "4fbfa05e-f5d7-439a-b8eb-5b39a3ebdd5a"
      },
      "source": [
        "normed_weights"
      ],
      "execution_count": 104,
      "outputs": [
        {
          "output_type": "execute_result",
          "data": {
            "text/plain": [
              "array([0.05874519, 0.05288634, 0.32727607, 0.19365161, 0.36744079])"
            ]
          },
          "metadata": {
            "tags": []
          },
          "execution_count": 104
        }
      ]
    },
    {
      "cell_type": "code",
      "metadata": {
        "id": "aRRrXymFMSkw"
      },
      "source": [
        "new_preds = normed_weights[0]*joined_scores['el36_proba'] + normed_weights[1] * joined_scores['el50_proba'] + \\\n",
        "            normed_weights[2]*joined_scores['el72_proba'] + normed_weights[3]*joined_scores['el36_vcr_proba'] + \\\n",
        "            normed_weights[4]*joined_scores['el72_vcr_proba']"
      ],
      "execution_count": 105,
      "outputs": []
    },
    {
      "cell_type": "code",
      "metadata": {
        "colab": {
          "base_uri": "https://localhost:8080/"
        },
        "id": "p4hYMm8zNirv",
        "outputId": "bf059ebb-b552-45c3-89e6-324c469f2adb"
      },
      "source": [
        "metrics.roc_auc_score(joined_scores['true_label'], new_preds)"
      ],
      "execution_count": 106,
      "outputs": [
        {
          "output_type": "execute_result",
          "data": {
            "text/plain": [
              "0.8094445600166423"
            ]
          },
          "metadata": {
            "tags": []
          },
          "execution_count": 106
        }
      ]
    },
    {
      "cell_type": "code",
      "metadata": {
        "id": "d-b7TO7oNoE2"
      },
      "source": [
        "test_el36 = pd.read_csv('test_seenEL36.csv').set_index('id')\n",
        "test_el50 = pd.read_csv('test_seenELV50.csv').set_index('id')\n",
        "test_el72 = pd.read_csv('test_seenEL72.csv').set_index('id')\n",
        "test_el36_vcr = pd.read_csv('test_seenELVCR36.csv').set_index('id')\n",
        "test_el72_vcr = pd.read_csv('test_seenELVCR72.csv').set_index('id')"
      ],
      "execution_count": 111,
      "outputs": []
    },
    {
      "cell_type": "code",
      "metadata": {
        "id": "izqiI73-NwoU"
      },
      "source": [
        "joined_test_scores = test_el36.rename(columns={'proba':'el36_proba'})[['el36_proba']] \\\n",
        "    .join(test_el50.rename(columns={'proba': 'el50_proba'})[['el50_proba']], how='inner') \\\n",
        "    .join(test_el72.rename(columns={'proba': 'el72_proba'})[['el72_proba']], how='inner') \\\n",
        "    .join(test_el36_vcr.rename(columns={'proba': 'el36_vcr_proba'})[['el36_vcr_proba']], how='inner') \\\n",
        "    .join(test_el72_vcr.rename(columns={'proba': 'el72_vcr_proba'})[['el72_vcr_proba']], how='inner') \\\n",
        "    .drop_duplicates()"
      ],
      "execution_count": 113,
      "outputs": []
    },
    {
      "cell_type": "code",
      "metadata": {
        "id": "aJxai9-jOJVa"
      },
      "source": [
        "test_preds = normed_weights[0]*joined_test_scores['el36_proba'] + normed_weights[1] * joined_test_scores['el50_proba'] + \\\n",
        "             normed_weights[2]*joined_test_scores['el72_proba'] + normed_weights[3]*joined_test_scores['el36_vcr_proba'] + \\\n",
        "             normed_weights[4]*joined_test_scores['el72_vcr_proba']"
      ],
      "execution_count": 116,
      "outputs": []
    },
    {
      "cell_type": "code",
      "metadata": {
        "id": "DcIiZBl4Orn6"
      },
      "source": [
        "test_pred_df = pd.DataFrame(test_preds, columns=['proba']).reset_index()"
      ],
      "execution_count": 131,
      "outputs": []
    },
    {
      "cell_type": "code",
      "metadata": {
        "id": "QGRNBZPaONUR"
      },
      "source": [
        "test_pred_df['label'] = np.where(test_pred_df['proba'] > test_pred_df['proba'].median(), 1, 0)"
      ],
      "execution_count": 139,
      "outputs": []
    },
    {
      "cell_type": "code",
      "metadata": {
        "id": "WK4-R-PDObh4"
      },
      "source": [
        "test_pred_df.to_csv('EL365072_new_ensemble_weights_test_seen.csv', index=False)"
      ],
      "execution_count": 142,
      "outputs": []
    },
    {
      "cell_type": "code",
      "metadata": {
        "id": "t9TZieeEP_zr"
      },
      "source": [
        ""
      ],
      "execution_count": null,
      "outputs": []
    }
  ]
}